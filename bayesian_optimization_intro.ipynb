{
  "nbformat": 4,
  "nbformat_minor": 0,
  "metadata": {
    "colab": {
      "provenance": []
    },
    "kernelspec": {
      "name": "python3",
      "display_name": "Python 3"
    },
    "language_info": {
      "name": "python"
    }
  },
  "cells": [
    {
      "cell_type": "markdown",
      "source": [
        "## bayesian global optimization with gaussian processes."
      ],
      "metadata": {
        "id": "RrILn8X2vO2-"
      }
    },
    {
      "cell_type": "markdown",
      "source": [
        "bayesian optimization is a global optimizer primarily used for black-box functions where we do not know how the output relates to the input parameters. it creates a prior distribution and evaluates the function at different values, updating this prior. these points are selected by balancing exploration and exploitation, as evaluations are costly. a gaussian process is used for the prior distribution.\n",
        "\n",
        "an acquisition function acts as a heuristic to determine how desirable it is to evaluate a point. based on the acquisition function, we decide the next point to evaluate and update our model with the new exploration point.it is used in hyper paramter tunning."
      ],
      "metadata": {
        "id": "Ni762BDpj8sD"
      }
    },
    {
      "cell_type": "code",
      "execution_count": 34,
      "metadata": {
        "colab": {
          "base_uri": "https://localhost:8080/"
        },
        "collapsed": true,
        "id": "wxIlcUSMu_PC",
        "outputId": "d943bbad-9699-494b-cfe2-42725c4e3847"
      },
      "outputs": [
        {
          "output_type": "stream",
          "name": "stdout",
          "text": [
            "Requirement already satisfied: bayesian-optimization in /usr/local/lib/python3.11/dist-packages (2.0.3)\n",
            "Requirement already satisfied: colorama<0.5.0,>=0.4.6 in /usr/local/lib/python3.11/dist-packages (from bayesian-optimization) (0.4.6)\n",
            "Requirement already satisfied: numpy>=1.25 in /usr/local/lib/python3.11/dist-packages (from bayesian-optimization) (2.0.2)\n",
            "Requirement already satisfied: scikit-learn<2.0.0,>=1.0.0 in /usr/local/lib/python3.11/dist-packages (from bayesian-optimization) (1.6.1)\n",
            "Requirement already satisfied: scipy<2.0.0,>=1.0.0 in /usr/local/lib/python3.11/dist-packages (from bayesian-optimization) (1.14.1)\n",
            "Requirement already satisfied: joblib>=1.2.0 in /usr/local/lib/python3.11/dist-packages (from scikit-learn<2.0.0,>=1.0.0->bayesian-optimization) (1.4.2)\n",
            "Requirement already satisfied: threadpoolctl>=3.1.0 in /usr/local/lib/python3.11/dist-packages (from scikit-learn<2.0.0,>=1.0.0->bayesian-optimization) (3.6.0)\n"
          ]
        }
      ],
      "source": [
        "!pip install bayesian-optimization"
      ]
    },
    {
      "cell_type": "markdown",
      "source": [
        "*exploration and exploitation*\n",
        "\n",
        "---\n",
        "\n"
      ],
      "metadata": {
        "id": "YYznIDGHyDBL"
      }
    },
    {
      "cell_type": "code",
      "source": [
        "from bayes_opt import BayesianOptimization"
      ],
      "metadata": {
        "id": "0-ontMArytxd"
      },
      "execution_count": 35,
      "outputs": []
    },
    {
      "cell_type": "code",
      "source": [
        "from bayes_opt.logger import JSONLogger\n",
        "from bayes_opt.event import Events"
      ],
      "metadata": {
        "id": "bgBZWCDONtzg"
      },
      "execution_count": 36,
      "outputs": []
    },
    {
      "cell_type": "code",
      "source": [
        "def black_box_function(x, y): # we generally wouldnt know details of this function\n",
        "    return -x ** 2 - (y - 1) ** 2 + 1\n"
      ],
      "metadata": {
        "id": "wtnbXjYFybfO"
      },
      "execution_count": 37,
      "outputs": []
    },
    {
      "cell_type": "code",
      "source": [
        "# Bounds\n",
        "pbounds = {'x': (2, 4), 'y': (-3, 3)}"
      ],
      "metadata": {
        "id": "ZXYmwIR7yxBJ"
      },
      "execution_count": 38,
      "outputs": []
    },
    {
      "cell_type": "code",
      "source": [
        "optimizer = BayesianOptimization(\n",
        "    f=black_box_function,\n",
        "    pbounds=pbounds,\n",
        "    verbose=2,\n",
        "    random_state=1,\n",
        ")"
      ],
      "metadata": {
        "id": "Ng-2MnsWy8rZ"
      },
      "execution_count": 39,
      "outputs": []
    },
    {
      "cell_type": "code",
      "source": [
        "optimizer"
      ],
      "metadata": {
        "colab": {
          "base_uri": "https://localhost:8080/"
        },
        "id": "Xp-_lpwIy-Sf",
        "outputId": "4909edcc-9a7d-4b4e-ae89-529ca1ec9fd0"
      },
      "execution_count": 40,
      "outputs": [
        {
          "output_type": "execute_result",
          "data": {
            "text/plain": [
              "<bayes_opt.bayesian_optimization.BayesianOptimization at 0x7ed5db47ce90>"
            ]
          },
          "metadata": {},
          "execution_count": 40
        }
      ]
    },
    {
      "cell_type": "code",
      "source": [
        "optimizer.maximize(  #we dont need to specify intt params\n",
        "    init_points=2,  # selects 2 random points within the given bounds and initialise gp with this points\n",
        "    n_iter=3,\n",
        ")"
      ],
      "metadata": {
        "colab": {
          "base_uri": "https://localhost:8080/"
        },
        "id": "Kqdgo1G8zAcA",
        "outputId": "f7711c80-f0ee-4483-c833-fad5c809918c"
      },
      "execution_count": 41,
      "outputs": [
        {
          "output_type": "stream",
          "name": "stdout",
          "text": [
            "|   iter    |  target   |     x     |     y     |\n",
            "-------------------------------------------------\n",
            "| \u001b[39m1        \u001b[39m | \u001b[39m-7.135   \u001b[39m | \u001b[39m2.834    \u001b[39m | \u001b[39m1.322    \u001b[39m |\n",
            "| \u001b[39m2        \u001b[39m | \u001b[39m-7.78    \u001b[39m | \u001b[39m2.0      \u001b[39m | \u001b[39m-1.186   \u001b[39m |\n",
            "| \u001b[35m3        \u001b[39m | \u001b[35m-7.11    \u001b[39m | \u001b[35m2.218    \u001b[39m | \u001b[35m-0.7867  \u001b[39m |\n",
            "| \u001b[39m4        \u001b[39m | \u001b[39m-12.4    \u001b[39m | \u001b[39m3.66     \u001b[39m | \u001b[39m0.9608   \u001b[39m |\n",
            "| \u001b[35m5        \u001b[39m | \u001b[35m-6.999   \u001b[39m | \u001b[35m2.23     \u001b[39m | \u001b[35m-0.7392  \u001b[39m |\n",
            "=================================================\n"
          ]
        }
      ]
    },
    {
      "cell_type": "code",
      "source": [
        "optimizer.probe(\n",
        "    params={\"x\": 0.5, \"y\": 0.7},\n",
        "    lazy=True,\n",
        ")\n"
      ],
      "metadata": {
        "id": "qwolM3xz2Cyf"
      },
      "execution_count": 42,
      "outputs": []
    },
    {
      "cell_type": "markdown",
      "source": [
        "passing parameters as dict"
      ],
      "metadata": {
        "id": "tCMpXL3Y3LwQ"
      }
    },
    {
      "cell_type": "code",
      "source": [
        "optimizer.maximize(\n",
        "    init_points=2,\n",
        "    n_iter=3,\n",
        ")"
      ],
      "metadata": {
        "colab": {
          "base_uri": "https://localhost:8080/"
        },
        "id": "20cDf2Js2nDv",
        "outputId": "01531652-88e0-4166-e9ec-a00b02da672d"
      },
      "execution_count": 43,
      "outputs": [
        {
          "output_type": "stream",
          "name": "stdout",
          "text": [
            "|   iter    |  target   |     x     |     y     |\n",
            "-------------------------------------------------\n",
            "| \u001b[39m6        \u001b[39m | \u001b[39m0.66     \u001b[39m | \u001b[39m0.5      \u001b[39m | \u001b[39m0.7      \u001b[39m |\n",
            "| \u001b[39m7        \u001b[39m | \u001b[39m-16.13   \u001b[39m | \u001b[39m2.294    \u001b[39m | \u001b[39m-2.446   \u001b[39m |\n",
            "| \u001b[39m8        \u001b[39m | \u001b[39m-8.341   \u001b[39m | \u001b[39m2.373    \u001b[39m | \u001b[39m-0.9266  \u001b[39m |\n",
            "| \u001b[35m9        \u001b[39m | \u001b[35m-6.978   \u001b[39m | \u001b[35m2.01     \u001b[39m | \u001b[35m2.985    \u001b[39m |\n"
          ]
        },
        {
          "output_type": "stream",
          "name": "stderr",
          "text": [
            "/usr/local/lib/python3.11/dist-packages/bayes_opt/target_space.py:421: UserWarning: \n",
            "Data point [0.5 0.7] is outside the bounds of the parameter space. \n",
            "  self.register(x, target)\n"
          ]
        },
        {
          "output_type": "stream",
          "name": "stdout",
          "text": [
            "| \u001b[35m10       \u001b[39m | \u001b[35m-3.06    \u001b[39m | \u001b[35m2.013    \u001b[39m | \u001b[35m0.9159   \u001b[39m |\n",
            "| \u001b[39m11       \u001b[39m | \u001b[39m-3.344   \u001b[39m | \u001b[39m2.006    \u001b[39m | \u001b[39m1.564    \u001b[39m |\n",
            "=================================================\n"
          ]
        }
      ]
    },
    {
      "cell_type": "code",
      "source": [
        "print(optimizer.space.keys)"
      ],
      "metadata": {
        "colab": {
          "base_uri": "https://localhost:8080/"
        },
        "id": "uYqOPv5nNVGk",
        "outputId": "93cb3780-1d25-4f58-ef04-e210a694fd89"
      },
      "execution_count": 44,
      "outputs": [
        {
          "output_type": "stream",
          "name": "stdout",
          "text": [
            "['x', 'y']\n"
          ]
        }
      ]
    },
    {
      "cell_type": "markdown",
      "source": [
        "passing parameters as iterable"
      ],
      "metadata": {
        "id": "rEQJSFKG3Tv0"
      }
    },
    {
      "cell_type": "code",
      "source": [
        "optimizer.probe(\n",
        "    params=[-0.3, 0.1],\n",
        "    lazy=True,\n",
        ")"
      ],
      "metadata": {
        "id": "6OchrqU83WK2"
      },
      "execution_count": 45,
      "outputs": []
    },
    {
      "cell_type": "code",
      "source": [
        "optimizer.maximize(\n",
        "    init_points=2,\n",
        "    n_iter=3,\n",
        ")"
      ],
      "metadata": {
        "colab": {
          "base_uri": "https://localhost:8080/"
        },
        "id": "riMMzSWy3ZnQ",
        "outputId": "175cca08-e0c1-47c3-8ad8-8ceddbc7a32d"
      },
      "execution_count": 46,
      "outputs": [
        {
          "output_type": "stream",
          "name": "stdout",
          "text": [
            "|   iter    |  target   |     x     |     y     |\n",
            "-------------------------------------------------\n",
            "| \u001b[39m12       \u001b[39m | \u001b[39m0.1      \u001b[39m | \u001b[39m-0.3     \u001b[39m | \u001b[39m0.1      \u001b[39m |\n",
            "| \u001b[39m13       \u001b[39m | \u001b[39m-7.392   \u001b[39m | \u001b[39m2.794    \u001b[39m | \u001b[39m0.2329   \u001b[39m |\n",
            "| \u001b[39m14       \u001b[39m | \u001b[39m-7.069   \u001b[39m | \u001b[39m2.838    \u001b[39m | \u001b[39m1.111    \u001b[39m |\n"
          ]
        },
        {
          "output_type": "stream",
          "name": "stderr",
          "text": [
            "/usr/local/lib/python3.11/dist-packages/bayes_opt/target_space.py:421: UserWarning: \n",
            "Data point [-0.3  0.1] is outside the bounds of the parameter space. \n",
            "  self.register(x, target)\n"
          ]
        },
        {
          "output_type": "stream",
          "name": "stdout",
          "text": [
            "| \u001b[39m15       \u001b[39m | \u001b[39m-3.242   \u001b[39m | \u001b[39m2.005    \u001b[39m | \u001b[39m0.5277   \u001b[39m |\n",
            "| \u001b[35m16       \u001b[39m | \u001b[35m-3.009   \u001b[39m | \u001b[35m2.001    \u001b[39m | \u001b[35m1.076    \u001b[39m |\n",
            "| \u001b[39m17       \u001b[39m | \u001b[39m-3.02    \u001b[39m | \u001b[39m2.0      \u001b[39m | \u001b[39m1.14     \u001b[39m |\n",
            "=================================================\n"
          ]
        }
      ]
    },
    {
      "cell_type": "code",
      "source": [
        "optimizer.maximize(init_points=0, n_iter=0)\n"
      ],
      "metadata": {
        "colab": {
          "base_uri": "https://localhost:8080/"
        },
        "id": "PrWcw-R3NkZz",
        "outputId": "093a23dc-2c71-496a-bd13-105a42780ac4"
      },
      "execution_count": 47,
      "outputs": [
        {
          "output_type": "stream",
          "name": "stdout",
          "text": [
            "|   iter    |  target   |     x     |     y     |\n",
            "-------------------------------------------------\n",
            "=================================================\n"
          ]
        }
      ]
    },
    {
      "cell_type": "code",
      "source": [
        "logger = JSONLogger(path=\"./logs.log\")\n",
        "optimizer.subscribe(Events.OPTIMIZATION_STEP, logger)"
      ],
      "metadata": {
        "id": "Wwf5B2hlN0Ww"
      },
      "execution_count": 48,
      "outputs": []
    },
    {
      "cell_type": "code",
      "source": [
        "optimizer.maximize(\n",
        "    init_points=2,\n",
        "    n_iter=3,\n",
        ")"
      ],
      "metadata": {
        "colab": {
          "base_uri": "https://localhost:8080/"
        },
        "id": "pTa74-tbN6Xv",
        "outputId": "9fa7fd4c-3359-4991-e9f4-d71ab60b310f"
      },
      "execution_count": 49,
      "outputs": [
        {
          "output_type": "stream",
          "name": "stdout",
          "text": [
            "|   iter    |  target   |     x     |     y     |\n",
            "-------------------------------------------------\n",
            "| \u001b[39m18       \u001b[39m | \u001b[39m-6.412   \u001b[39m | \u001b[39m2.409    \u001b[39m | \u001b[39m2.269    \u001b[39m |\n",
            "| \u001b[39m19       \u001b[39m | \u001b[39m-3.223   \u001b[39m | \u001b[39m2.055    \u001b[39m | \u001b[39m1.023    \u001b[39m |\n",
            "| \u001b[35m20       \u001b[39m | \u001b[35m-3.0     \u001b[39m | \u001b[35m2.0      \u001b[39m | \u001b[35m0.9936   \u001b[39m |\n",
            "| \u001b[35m21       \u001b[39m | \u001b[35m-3.0     \u001b[39m | \u001b[35m2.0      \u001b[39m | \u001b[35m0.9953   \u001b[39m |\n",
            "| \u001b[39m22       \u001b[39m | \u001b[39m-3.004   \u001b[39m | \u001b[39m2.001    \u001b[39m | \u001b[39m0.9707   \u001b[39m |\n",
            "=================================================\n"
          ]
        }
      ]
    },
    {
      "cell_type": "code",
      "source": [
        "from bayes_opt.util import load_logs"
      ],
      "metadata": {
        "id": "uNEgYCgJODEv"
      },
      "execution_count": 50,
      "outputs": []
    },
    {
      "cell_type": "code",
      "source": [
        "new_optimizer = BayesianOptimization(\n",
        "    f=black_box_function,\n",
        "    pbounds={\"x\": (-2, 5), \"y\": (-2, 5)},\n",
        "    verbose=2,\n",
        "    random_state=7,\n",
        ")\n",
        "print(len(new_optimizer.space))"
      ],
      "metadata": {
        "colab": {
          "base_uri": "https://localhost:8080/"
        },
        "id": "9fKRcJRAOL2E",
        "outputId": "615e4ef1-7503-432d-df18-8866823a3bc8"
      },
      "execution_count": 53,
      "outputs": [
        {
          "output_type": "stream",
          "name": "stdout",
          "text": [
            "0\n"
          ]
        }
      ]
    },
    {
      "cell_type": "code",
      "source": [
        "load_logs(new_optimizer, logs=[\"./logs.log\"]);"
      ],
      "metadata": {
        "id": "QjydmVp7OTJJ"
      },
      "execution_count": 54,
      "outputs": []
    },
    {
      "cell_type": "code",
      "source": [
        "new_optimizer.maximize(\n",
        "    init_points=0,\n",
        "    n_iter=10,\n",
        ")"
      ],
      "metadata": {
        "colab": {
          "base_uri": "https://localhost:8080/"
        },
        "id": "JcSD65spOpQP",
        "outputId": "8be9ae13-144e-4c73-d921-6eb6db77cdae"
      },
      "execution_count": 60,
      "outputs": [
        {
          "output_type": "stream",
          "name": "stdout",
          "text": [
            "|   iter    |  target   |     x     |     y     |\n",
            "-------------------------------------------------\n",
            "| \u001b[39m31       \u001b[39m | \u001b[39m0.9981   \u001b[39m | \u001b[39m0.01837  \u001b[39m | \u001b[39m0.9606   \u001b[39m |\n",
            "| \u001b[39m32       \u001b[39m | \u001b[39m0.9999   \u001b[39m | \u001b[39m0.0008573\u001b[39m | \u001b[39m0.9884   \u001b[39m |\n",
            "| \u001b[39m33       \u001b[39m | \u001b[39m0.9987   \u001b[39m | \u001b[39m-0.03339 \u001b[39m | \u001b[39m1.013    \u001b[39m |\n",
            "| \u001b[39m34       \u001b[39m | \u001b[39m0.9931   \u001b[39m | \u001b[39m0.03752  \u001b[39m | \u001b[39m1.074    \u001b[39m |\n",
            "| \u001b[39m35       \u001b[39m | \u001b[39m0.9984   \u001b[39m | \u001b[39m0.02063  \u001b[39m | \u001b[39m0.9654   \u001b[39m |\n",
            "| \u001b[39m36       \u001b[39m | \u001b[39m0.9986   \u001b[39m | \u001b[39m-0.03667 \u001b[39m | \u001b[39m1.01     \u001b[39m |\n",
            "| \u001b[39m37       \u001b[39m | \u001b[39m0.9996   \u001b[39m | \u001b[39m0.01924  \u001b[39m | \u001b[39m1.005    \u001b[39m |\n",
            "| \u001b[39m38       \u001b[39m | \u001b[39m0.9975   \u001b[39m | \u001b[39m0.0344   \u001b[39m | \u001b[39m1.037    \u001b[39m |\n",
            "| \u001b[39m39       \u001b[39m | \u001b[39m0.9989   \u001b[39m | \u001b[39m0.006706 \u001b[39m | \u001b[39m0.968    \u001b[39m |\n",
            "| \u001b[39m40       \u001b[39m | \u001b[39m0.9996   \u001b[39m | \u001b[39m0.001861 \u001b[39m | \u001b[39m1.02     \u001b[39m |\n",
            "=================================================\n"
          ]
        }
      ]
    },
    {
      "cell_type": "code",
      "source": [
        "new_optimizer.max"
      ],
      "metadata": {
        "colab": {
          "base_uri": "https://localhost:8080/"
        },
        "id": "dpHrWbBgO2Zl",
        "outputId": "826ec071-c54d-406d-f2ae-8fd06c92eb85"
      },
      "execution_count": 56,
      "outputs": [
        {
          "output_type": "execute_result",
          "data": {
            "text/plain": [
              "{'target': np.float64(0.8846070438181876),\n",
              " 'params': {'x': np.float64(0.12923595239078223),\n",
              "  'y': np.float64(0.6858487230784189)}}"
            ]
          },
          "metadata": {},
          "execution_count": 56
        }
      ]
    },
    {
      "cell_type": "code",
      "source": [
        "for i, res in enumerate(new_optimizer.res):\n",
        "    print(\"Iteration {}: \\n\\t{}\".format(i, res))\n"
      ],
      "metadata": {
        "colab": {
          "base_uri": "https://localhost:8080/"
        },
        "id": "Rw8gikfwPfYA",
        "outputId": "aaf98302-97c9-4e34-a6d6-27d2becd9f9d"
      },
      "execution_count": 57,
      "outputs": [
        {
          "output_type": "stream",
          "name": "stdout",
          "text": [
            "Iteration 0: \n",
            "\t{'target': np.float64(-6.412432296144895), 'params': {'x': np.float64(2.408904499463035), 'y': np.float64(2.268704618345673)}}\n",
            "Iteration 1: \n",
            "\t{'target': np.float64(-3.2226211374385345), 'params': {'x': np.float64(2.0547751863958523), 'y': np.float64(1.0228050610704136)}}\n",
            "Iteration 2: \n",
            "\t{'target': np.float64(-3.000041108993832), 'params': {'x': np.float64(2.0), 'y': np.float64(0.9935883704230357)}}\n",
            "Iteration 3: \n",
            "\t{'target': np.float64(-3.0000221766172164), 'params': {'x': np.float64(2.0), 'y': np.float64(0.995290794417714)}}\n",
            "Iteration 4: \n",
            "\t{'target': np.float64(-3.004163941710172), 'params': {'x': np.float64(2.000826474325388), 'y': np.float64(0.9707192665937128)}}\n",
            "Iteration 5: \n",
            "\t{'target': np.float64(-0.24601408189776208), 'params': {'x': np.float64(1.115941076406549), 'y': np.float64(0.9737398422252426)}}\n",
            "Iteration 6: \n",
            "\t{'target': np.float64(0.8846070438181876), 'params': {'x': np.float64(0.12923595239078223), 'y': np.float64(0.6858487230784189)}}\n",
            "Iteration 7: \n",
            "\t{'target': np.float64(-0.18365549511141), 'params': {'x': np.float64(-0.7300060545722906), 'y': np.float64(1.806688697949344)}}\n",
            "Iteration 8: \n",
            "\t{'target': np.float64(-2.5922198274168418), 'params': {'x': np.float64(-1.4820126643370588), 'y': np.float64(-0.18146446842950548)}}\n",
            "Iteration 9: \n",
            "\t{'target': np.float64(-2.4538389744545395), 'params': {'x': np.float64(0.45884352471445444), 'y': np.float64(-0.800916876005707)}}\n",
            "Iteration 10: \n",
            "\t{'target': np.float64(0.5632928674560969), 'params': {'x': np.float64(0.2606461900116961), 'y': np.float64(1.6072649307973332)}}\n",
            "Iteration 11: \n",
            "\t{'target': np.float64(-15.812127200012085), 'params': {'x': np.float64(-1.980127593870482), 'y': np.float64(4.590434780358053)}}\n",
            "Iteration 12: \n",
            "\t{'target': np.float64(-32.576876823760834), 'params': {'x': np.float64(4.974967530231544), 'y': np.float64(-1.970955216239834)}}\n",
            "Iteration 13: \n",
            "\t{'target': np.float64(-39.950390924658485), 'params': {'x': np.float64(4.995135622093748), 'y': np.float64(4.9998763782832825)}}\n",
            "Iteration 14: \n",
            "\t{'target': np.float64(-11.449623423282945), 'params': {'x': np.float64(-1.9360891824916666), 'y': np.float64(-1.949776618783479)}}\n"
          ]
        }
      ]
    }
  ]
}